{
 "cells": [
  {
   "cell_type": "markdown",
   "metadata": {},
   "source": [
    "### 1. Importing the Package and Creating db"
   ]
  },
  {
   "cell_type": "code",
   "execution_count": 18,
   "metadata": {},
   "outputs": [],
   "source": [
    "from thanosdb import thanosdb\n",
    "\n",
    "# Set auto_dump=True if you want values to\n",
    "# persist to database after every operation\n",
    "# without explicitly running db.dump()\n",
    "db = thanosdb.load('example.db', True)"
   ]
  },
  {
   "cell_type": "markdown",
   "metadata": {},
   "source": [
    "### 2. Creating Simple Key-Value Pairs"
   ]
  },
  {
   "cell_type": "code",
   "execution_count": 2,
   "metadata": {},
   "outputs": [
    {
     "data": {
      "text/plain": [
       "True"
      ]
     },
     "execution_count": 2,
     "metadata": {},
     "output_type": "execute_result"
    }
   ],
   "source": [
    "db.set('ironman', 'Tony Stark')\n",
    "db.set('captain-america', 'Steve Rogers')\n",
    "db.set('thor', 'Thor Odinson')\n",
    "db.set('black-widow', 'Natasha Romanoff')"
   ]
  },
  {
   "cell_type": "markdown",
   "metadata": {},
   "source": [
    "### 3. Fetching Values from db"
   ]
  },
  {
   "cell_type": "code",
   "execution_count": 3,
   "metadata": {},
   "outputs": [
    {
     "name": "stdout",
     "output_type": "stream",
     "text": [
      "Tony Stark\n",
      "Thor Odinson\n",
      "dict_keys(['ironman', 'captain-america', 'thor', 'black-widow'])\n",
      "False\n"
     ]
    }
   ],
   "source": [
    "print(db.get('ironman'))\n",
    "print(db.get('thor'))\n",
    "print(db.getall())\n",
    "\n",
    "'''Returns False if key is not present in db'''\n",
    "print(db.get('hawkeye'))"
   ]
  },
  {
   "cell_type": "markdown",
   "metadata": {},
   "source": [
    "### 4. Checking if key exists in db"
   ]
  },
  {
   "cell_type": "code",
   "execution_count": 4,
   "metadata": {},
   "outputs": [
    {
     "name": "stdout",
     "output_type": "stream",
     "text": [
      "True\n",
      "False\n"
     ]
    }
   ],
   "source": [
    "print(db.exists('ironman'))\n",
    "print(db.exists('hawkeye'))"
   ]
  },
  {
   "cell_type": "markdown",
   "metadata": {},
   "source": [
    "### 5. Removing keys from db"
   ]
  },
  {
   "cell_type": "code",
   "execution_count": 5,
   "metadata": {},
   "outputs": [
    {
     "name": "stdout",
     "output_type": "stream",
     "text": [
      "dict_keys(['captain-america', 'thor'])\n"
     ]
    }
   ],
   "source": [
    "db.rem('ironman')\n",
    "db.rem('black-widow')\n",
    "print(db.getall())"
   ]
  },
  {
   "cell_type": "markdown",
   "metadata": {},
   "source": [
    "### 6. List Operations"
   ]
  },
  {
   "cell_type": "code",
   "execution_count": 33,
   "metadata": {},
   "outputs": [
    {
     "name": "stdout",
     "output_type": "stream",
     "text": [
      "['Iron Man', 'Captain America', 'Black Widow', 'Thor', 'Hawkeye']\n",
      "Captain America\n",
      "Size of Avengers is  5\n",
      "Removed Avenger is:  Hawkeye\n",
      "True\n",
      "3\n"
     ]
    }
   ],
   "source": [
    "# Creating a List\n",
    "db.lcreate('avengers')\n",
    "\n",
    "# Adding value to a List\n",
    "db.ladd('avengers', 'Iron Man')\n",
    "\n",
    "# Adding sequence to a List\n",
    "db.lextend('avengers', ['Captain America', 'Black Widow', 'Thor', 'Hawkeye'])\n",
    "\n",
    "# Getting all the values in a List\n",
    "print(db.lgetall('avengers'))\n",
    "\n",
    "# Getting value at a specific position in a List\n",
    "print(db.lget('avengers', 1))\n",
    "\n",
    "# Getting the size of List\n",
    "print('Size of Avengers is ', db.llen('avengers'))\n",
    "\n",
    "# Removing Value from List\n",
    "db.lremvalue('avengers', 'Black Widow')\n",
    "\n",
    "# Removing Value from a position in a List\n",
    "print('Removed Avenger is: ', db.lpop('avengers', 3))\n",
    "\n",
    "# Checking if a value exists in a List\n",
    "print(db.lexists('avengers', 'Thor'))\n",
    "\n",
    "# Removing List\n",
    "print(db.lremlist('avengers'))"
   ]
  },
  {
   "cell_type": "markdown",
   "metadata": {},
   "source": [
    "### 7. Dictionary Operations"
   ]
  },
  {
   "cell_type": "code",
   "execution_count": 34,
   "metadata": {},
   "outputs": [],
   "source": [
    "# Work in Progress"
   ]
  }
 ],
 "metadata": {
  "kernelspec": {
   "display_name": "Python 3",
   "language": "python",
   "name": "python3"
  },
  "language_info": {
   "codemirror_mode": {
    "name": "ipython",
    "version": 3
   },
   "file_extension": ".py",
   "mimetype": "text/x-python",
   "name": "python",
   "nbconvert_exporter": "python",
   "pygments_lexer": "ipython3",
   "version": "3.7.1"
  }
 },
 "nbformat": 4,
 "nbformat_minor": 2
}
